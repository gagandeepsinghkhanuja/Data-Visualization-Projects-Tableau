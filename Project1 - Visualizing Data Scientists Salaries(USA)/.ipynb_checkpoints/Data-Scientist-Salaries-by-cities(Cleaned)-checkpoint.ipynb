{
 "cells": [
  {
   "cell_type": "code",
   "execution_count": 7,
   "id": "506b6409-8b6b-4fa8-8535-d5c06a9c2534",
   "metadata": {},
   "outputs": [
    {
     "name": "stdout",
     "output_type": "stream",
     "text": [
      "Cleaned file saved at: Gags.xlsx\n"
     ]
    }
   ],
   "source": [
    "import pandas as pd\n",
    "\n",
    "def split_cities_cleaned_v2(df):\n",
    "    rows = []\n",
    "    for index, row in df.iterrows():\n",
    "        if ',' not in row['Area Name']:\n",
    "            # If the Area Name does not have a comma, we just append it as-is (for nonmetropolitan areas)\n",
    "            rows.append(row)\n",
    "            continue\n",
    "        \n",
    "        cities, state = row['Area Name'].rsplit(',', 1)\n",
    "        \n",
    "        # Remove rows where there are no cities (like \",CA\")\n",
    "        if not cities.strip():\n",
    "            continue\n",
    "        \n",
    "        split_cities = cities.split('-')\n",
    "        \n",
    "        # Handle edge cases for cities spanning multiple states\n",
    "        if len(state.split('-')) > 1:\n",
    "            states = state.split('-')\n",
    "            for city in split_cities:\n",
    "                for state in states:\n",
    "                    new_row = row.copy()\n",
    "                    new_row['Area Name'] = city.strip() + ', ' + state.strip()\n",
    "                    rows.append(new_row)\n",
    "        else:\n",
    "            for city in split_cities:\n",
    "                new_row = row.copy()\n",
    "                new_row['Area Name'] = city.strip() + ',' + state.strip()\n",
    "                rows.append(new_row)\n",
    "                \n",
    "    return pd.DataFrame(rows)\n",
    "\n",
    "# Load the Excel file\n",
    "file_path = 'Data Scientists Salary-By City.xlsx'  # Replace this with the actual file path\n",
    "df = pd.read_excel(file_path, sheet_name='CITY')\n",
    "\n",
    "# Applying the updated function\n",
    "df_cleaned_split_v2 = split_cities_cleaned_v2(df)\n",
    "\n",
    "# Saving the cleaned dataframe to a new Excel file\n",
    "output_file_path = 'Gags.xlsx'  # Replace this with the desired output file path\n",
    "df_cleaned_split_v2.to_excel(output_file_path, index=False)\n",
    "\n",
    "print(f\"Cleaned file saved at: {output_file_path}\")"
   ]
  },
  {
   "cell_type": "code",
   "execution_count": null,
   "id": "c8e96dc3-a961-4f8a-8820-d9be13fd9267",
   "metadata": {},
   "outputs": [],
   "source": []
  }
 ],
 "metadata": {
  "kernelspec": {
   "display_name": "Python 3 (ipykernel)",
   "language": "python",
   "name": "python3"
  },
  "language_info": {
   "codemirror_mode": {
    "name": "ipython",
    "version": 3
   },
   "file_extension": ".py",
   "mimetype": "text/x-python",
   "name": "python",
   "nbconvert_exporter": "python",
   "pygments_lexer": "ipython3",
   "version": "3.12.4"
  }
 },
 "nbformat": 4,
 "nbformat_minor": 5
}
